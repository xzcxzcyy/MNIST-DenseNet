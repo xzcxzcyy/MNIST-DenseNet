{
  "nbformat": 4,
  "nbformat_minor": 0,
  "metadata": {
    "colab": {
      "name": "Assignment-MNIST的核心代码",
      "provenance": [],
      "collapsed_sections": [],
      "toc_visible": true
    },
    "kernelspec": {
      "name": "python3",
      "display_name": "Python 3"
    },
    "accelerator": "GPU"
  },
  "cells": [
    {
      "cell_type": "markdown",
      "metadata": {
        "id": "TV9zzPo01auD",
        "colab_type": "text"
      },
      "source": [
        "# Build"
      ]
    },
    {
      "cell_type": "code",
      "metadata": {
        "id": "PvRJ7arMy_XZ",
        "colab_type": "code",
        "colab": {}
      },
      "source": [
        "import tensorflow as tf\n",
        "import numpy as np\n",
        "import datetime\n",
        "import os\n",
        "from tensorflow import keras\n",
        "from tensorflow.keras import layers"
      ],
      "execution_count": 1,
      "outputs": []
    },
    {
      "cell_type": "code",
      "metadata": {
        "id": "SmUBRz4PzJHa",
        "colab_type": "code",
        "colab": {}
      },
      "source": [
        "mnist = tf.keras.datasets.mnist\n",
        "\n",
        "(x_train, y_train),(x_test, y_test) = mnist.load_data()\n",
        "x_train, x_test = x_train / 255.0, x_test / 255.0"
      ],
      "execution_count": 2,
      "outputs": []
    },
    {
      "cell_type": "code",
      "metadata": {
        "id": "kkhspoez1vl6",
        "colab_type": "code",
        "colab": {}
      },
      "source": [
        "x_train=x_train.reshape(60000,28,28,1)"
      ],
      "execution_count": 4,
      "outputs": []
    },
    {
      "cell_type": "code",
      "metadata": {
        "id": "sWtsR47_2MQX",
        "colab_type": "code",
        "colab": {}
      },
      "source": [
        "x_test=x_test.reshape(10000,28,28,1)"
      ],
      "execution_count": 5,
      "outputs": []
    },
    {
      "cell_type": "code",
      "metadata": {
        "id": "xtevj6uLzRWT",
        "colab_type": "code",
        "colab": {}
      },
      "source": [
        "# 一般的卷积神经网络\n",
        "def create_model():\n",
        "  return tf.keras.models.Sequential([\n",
        "    layers.Conv2D(32,(3,3),activation='relu',input_shape=(28,28,1)),\n",
        "    layers.MaxPooling2D((2,2)),\n",
        "    layers.Dropout(0.5),\n",
        "    layers.Conv2D(64,(3,3),activation='relu'),\n",
        "    layers.MaxPooling2D(),\n",
        "    layers.Conv2D(64,(3,3),activation='relu'),\n",
        "    layers.Flatten(),\n",
        "    layers.Dropout(0.2),\n",
        "    layers.Dense(64),\n",
        "    layers.Dense(10,activation='relu')\n",
        "  ])"
      ],
      "execution_count": null,
      "outputs": []
    },
    {
      "cell_type": "code",
      "metadata": {
        "id": "fZnteXq24PBw",
        "colab_type": "code",
        "colab": {}
      },
      "source": [
        "# 全连接卷积神经网络 DenseNet\n",
        "def dense_block(inputs, k):\n",
        "  layer1 = layers.Conv2D(k,(3,3),activation='relu',padding='same')(inputs);\n",
        "  concatenate_i1 = layers.concatenate([inputs,layer1]);\n",
        "  layer2 = layers.Conv2D(k,(3,3),activation='relu',padding='same')(concatenate_i1);\n",
        "  concatenate_i12 = layers.concatenate([inputs,layer1,layer2]);\n",
        "  layer3 = layers.Conv2D(k,(3,3),activation='relu',padding='same')(concatenate_i12);\n",
        "  concatenate_i123 = layers.concatenate([inputs,layer1,layer2,layer3]);\n",
        "  layer4 = layers.Conv2D(k,(3,3),activation='relu',padding='same')(concatenate_i123);\n",
        "  return layer4;"
      ],
      "execution_count": null,
      "outputs": []
    },
    {
      "cell_type": "code",
      "metadata": {
        "id": "nbS_sTFAJIO3",
        "colab_type": "code",
        "colab": {}
      },
      "source": [
        "def dense_net():\n",
        "  k=12;\n",
        "\n",
        "  inputs = keras.Input(shape=(28,28,1));\n",
        "  block1 = dense_block(inputs, k)\n",
        "  conv_layer1 = layers.Conv2D(12,(3,3),activation='relu')(block1);\n",
        "  pooling_layer1 = layers.MaxPooling2D((2,2))(conv_layer1);\n",
        "  block2 = dense_block(pooling_layer1, k);\n",
        "  conv_layer2 = layers.Conv2D(12,(3,3),activation='relu')(block2);\n",
        "  pooling_layer2 = layers.MaxPooling2D((2,2))(conv_layer2)\n",
        "  flatten_layer = layers.Flatten()(pooling_layer2);\n",
        "  drop_out_layer = layers.Dropout(0.5)(flatten_layer)\n",
        "  dense_layer1 = layers.Dense(50, activation='relu')(drop_out_layer);\n",
        "  dense_layer2 = layers.Dense(10, activation='relu')(dense_layer1);\n",
        "  model=keras.Model(inputs=inputs, outputs=dense_layer2, name='DenseNet');\n",
        "  return model;"
      ],
      "execution_count": null,
      "outputs": []
    },
    {
      "cell_type": "code",
      "metadata": {
        "id": "-mWANg2SaWY8",
        "colab_type": "code",
        "colab": {}
      },
      "source": [
        "model=dense_net()"
      ],
      "execution_count": null,
      "outputs": []
    },
    {
      "cell_type": "code",
      "metadata": {
        "id": "JF83DFkCzSro",
        "colab_type": "code",
        "colab": {}
      },
      "source": [
        "model.summary()\n",
        "model.compile(optimizer='adam',\n",
        "              loss=tf.keras.losses.SparseCategoricalCrossentropy(from_logits=True),\n",
        "              metrics=['accuracy'])"
      ],
      "execution_count": null,
      "outputs": []
    },
    {
      "cell_type": "code",
      "metadata": {
        "id": "Q6qLNCgB3WrE",
        "colab_type": "code",
        "colab": {}
      },
      "source": [
        "result = model.fit(x_train, y_train, epochs=30,validation_data=(x_test,y_test))"
      ],
      "execution_count": null,
      "outputs": []
    }
  ]
}